{
 "cells": [
  {
   "cell_type": "code",
   "execution_count": 1,
   "id": "881ac497-623a-42cd-9b5d-6655d69435b7",
   "metadata": {},
   "outputs": [],
   "source": [
    "a='raghav'\n",
    "b=[1,2,3,4,5,6,7,77.7,True,'pro']\n",
    "c=45.298\n",
    "d=(1,2,3,4,5,6,7)"
   ]
  },
  {
   "cell_type": "code",
   "execution_count": 2,
   "id": "6ea23cd6-0a03-434b-b247-40078f8f5744",
   "metadata": {},
   "outputs": [],
   "source": [
    "#(a) string\n",
    "#(b) string\n",
    "#(c) list \n",
    "#(d) integer "
   ]
  },
  {
   "cell_type": "code",
   "execution_count": 3,
   "id": "fbc61dd3-587b-45d5-bb73-c78b8a75ecf3",
   "metadata": {},
   "outputs": [
    {
     "data": {
      "text/plain": [
       "0.6666666666666666"
      ]
     },
     "execution_count": 3,
     "metadata": {},
     "output_type": "execute_result"
    }
   ],
   "source": [
    "#(a) to divide \n",
    "2/3"
   ]
  },
  {
   "cell_type": "code",
   "execution_count": 5,
   "id": "886ed924-9090-4963-bc63-05df68bdee1c",
   "metadata": {},
   "outputs": [
    {
     "data": {
      "text/plain": [
       "1"
      ]
     },
     "execution_count": 5,
     "metadata": {},
     "output_type": "execute_result"
    }
   ],
   "source": [
    "#(b) to find remainder \n",
    "5%4"
   ]
  },
  {
   "cell_type": "code",
   "execution_count": 6,
   "id": "d6d1d305-03c4-4c57-86a3-7e885b6f4ed5",
   "metadata": {},
   "outputs": [
    {
     "data": {
      "text/plain": [
       "1"
      ]
     },
     "execution_count": 6,
     "metadata": {},
     "output_type": "execute_result"
    }
   ],
   "source": [
    "#(c) floor \n",
    "8//7"
   ]
  },
  {
   "cell_type": "code",
   "execution_count": 7,
   "id": "97793c9c-7d55-4d44-b0f8-cc4069df2e08",
   "metadata": {},
   "outputs": [
    {
     "data": {
      "text/plain": [
       "81"
      ]
     },
     "execution_count": 7,
     "metadata": {},
     "output_type": "execute_result"
    }
   ],
   "source": [
    "#(d) power \n",
    "3**4"
   ]
  },
  {
   "cell_type": "code",
   "execution_count": 9,
   "id": "def939c2-0133-429e-9f4e-63f830fa87d8",
   "metadata": {},
   "outputs": [
    {
     "name": "stdout",
     "output_type": "stream",
     "text": [
      "1\n",
      "<class 'int'>\n",
      "2\n",
      "<class 'int'>\n",
      "3\n",
      "<class 'int'>\n",
      "4\n",
      "<class 'int'>\n",
      "5\n",
      "<class 'int'>\n",
      "6\n",
      "<class 'int'>\n",
      "7\n",
      "<class 'int'>\n",
      "88.56\n",
      "<class 'float'>\n",
      "raghav\n",
      "<class 'str'>\n",
      "True\n",
      "<class 'bool'>\n"
     ]
    }
   ],
   "source": [
    "l=[1,2,3,4,5,6,7,88.56,'raghav',True]\n",
    "for i in l :\n",
    "    print(i)\n",
    "    print(type(i))"
   ]
  },
  {
   "cell_type": "code",
   "execution_count": 10,
   "id": "dc206a7c-39e9-476a-9ffb-41d92fa6a4a7",
   "metadata": {},
   "outputs": [
    {
     "name": "stdout",
     "output_type": "stream",
     "text": [
      "1\n",
      "NOT DIVISIBLE BY 3\n",
      "2\n",
      "NOT DIVISIBLE BY 3\n",
      "3\n",
      "DIVISIBLE BY 3\n",
      "4\n",
      "NOT DIVISIBLE BY 3\n",
      "5\n",
      "NOT DIVISIBLE BY 3\n",
      "6\n",
      "DIVISIBLE BY 3\n",
      "7\n",
      "NOT DIVISIBLE BY 3\n",
      "8\n",
      "NOT DIVISIBLE BY 3\n",
      "9\n",
      "DIVISIBLE BY 3\n",
      "10\n",
      "NOT DIVISIBLE BY 3\n",
      "11\n",
      "NOT DIVISIBLE BY 3\n",
      "12\n",
      "DIVISIBLE BY 3\n",
      "13\n",
      "NOT DIVISIBLE BY 3\n",
      "14\n",
      "NOT DIVISIBLE BY 3\n",
      "15\n",
      "DIVISIBLE BY 3\n",
      "16\n",
      "NOT DIVISIBLE BY 3\n",
      "17\n",
      "NOT DIVISIBLE BY 3\n",
      "18\n",
      "DIVISIBLE BY 3\n",
      "19\n",
      "NOT DIVISIBLE BY 3\n",
      "20\n",
      "NOT DIVISIBLE BY 3\n",
      "21\n",
      "DIVISIBLE BY 3\n",
      "22\n",
      "NOT DIVISIBLE BY 3\n",
      "23\n",
      "NOT DIVISIBLE BY 3\n",
      "24\n",
      "DIVISIBLE BY 3\n",
      "25\n",
      "NOT DIVISIBLE BY 3\n"
     ]
    }
   ],
   "source": [
    "r=[1,2,3,4,5,6,7,8,9,10,11,12,13,14,15,16,17,18,19,20,21,22,23,24,25]\n",
    "for i in r : \n",
    "    s=i%3\n",
    "    if s==0 :\n",
    "        print(i)\n",
    "        print('DIVISIBLE BY 3')\n",
    "    else :\n",
    "        print(i)\n",
    "        print('NOT DIVISIBLE BY 3')"
   ]
  },
  {
   "cell_type": "code",
   "execution_count": 11,
   "id": "411aeccf-a969-4630-a2c3-b7b315054d44",
   "metadata": {},
   "outputs": [],
   "source": [
    "#immutable datatype is a datatype which cannot be changed at a particular index whereas mutable is one which can be changed at a particular index.\n",
    "#example of immutable: string   example of mutable: list "
   ]
  },
  {
   "cell_type": "code",
   "execution_count": 14,
   "id": "34e284c7-8b8e-400e-b50b-a6140dbd3f2d",
   "metadata": {},
   "outputs": [],
   "source": [
    "z=[1,2,3,4]\n",
    "z[0]=0"
   ]
  },
  {
   "cell_type": "code",
   "execution_count": 15,
   "id": "ab8bf194-ce42-4f0e-81d7-bb54a903243b",
   "metadata": {},
   "outputs": [
    {
     "data": {
      "text/plain": [
       "[0, 2, 3, 4]"
      ]
     },
     "execution_count": 15,
     "metadata": {},
     "output_type": "execute_result"
    }
   ],
   "source": [
    "z"
   ]
  },
  {
   "cell_type": "code",
   "execution_count": 16,
   "id": "0663a311-2071-40bc-9f95-ca1143177ad2",
   "metadata": {},
   "outputs": [
    {
     "ename": "TypeError",
     "evalue": "'str' object does not support item assignment",
     "output_type": "error",
     "traceback": [
      "\u001b[0;31m---------------------------------------------------------------------------\u001b[0m",
      "\u001b[0;31mTypeError\u001b[0m                                 Traceback (most recent call last)",
      "Cell \u001b[0;32mIn[16], line 2\u001b[0m\n\u001b[1;32m      1\u001b[0m p\u001b[38;5;241m=\u001b[39m\u001b[38;5;124m'\u001b[39m\u001b[38;5;124mabrol\u001b[39m\u001b[38;5;124m'\u001b[39m\n\u001b[0;32m----> 2\u001b[0m \u001b[43mp\u001b[49m\u001b[43m[\u001b[49m\u001b[38;5;241;43m0\u001b[39;49m\u001b[43m]\u001b[49m\u001b[38;5;241m=\u001b[39m\u001b[38;5;124m'\u001b[39m\u001b[38;5;124ms\u001b[39m\u001b[38;5;124m'\u001b[39m\n",
      "\u001b[0;31mTypeError\u001b[0m: 'str' object does not support item assignment"
     ]
    }
   ],
   "source": [
    "p='abrol'\n",
    "p[0]='s'"
   ]
  },
  {
   "cell_type": "code",
   "execution_count": 19,
   "id": "6819d615-dcdb-4f79-9984-81339d2783e2",
   "metadata": {},
   "outputs": [
    {
     "name": "stdin",
     "output_type": "stream",
     "text": [
      " 197\n",
      " 34\n"
     ]
    },
    {
     "name": "stdout",
     "output_type": "stream",
     "text": [
      "197 is not divisible by 34\n"
     ]
    }
   ],
   "source": [
    "A=int(input())\n",
    "B=int(input())\n",
    "if A%B==0 :\n",
    "    print(A,'is divisible by',B)\n",
    "else :\n",
    "    print(A,'is not divisible by',B)\n",
    "          \n"
   ]
  }
 ],
 "metadata": {
  "kernelspec": {
   "display_name": "Python 3 (ipykernel)",
   "language": "python",
   "name": "python3"
  },
  "language_info": {
   "codemirror_mode": {
    "name": "ipython",
    "version": 3
   },
   "file_extension": ".py",
   "mimetype": "text/x-python",
   "name": "python",
   "nbconvert_exporter": "python",
   "pygments_lexer": "ipython3",
   "version": "3.10.8"
  }
 },
 "nbformat": 4,
 "nbformat_minor": 5
}
