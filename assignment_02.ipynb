{
 "cells": [
  {
   "cell_type": "code",
   "execution_count": 1,
   "id": "9350a67c-9dd6-44c1-93d1-013ba6b7e0f2",
   "metadata": {},
   "outputs": [
    {
     "data": {
      "text/plain": [
       "'second one is multi line comment \\nex:multi line\\ncomment'"
      ]
     },
     "execution_count": 1,
     "metadata": {},
     "output_type": "execute_result"
    }
   ],
   "source": [
    "#answer no 1:\n",
    "#there are two types of comments in python \n",
    "#first one is single line comment\n",
    "#ex:single line commment \n",
    "\"\"\"second one is multi line comment \n",
    "ex:multi line\n",
    "comment\"\"\"\n"
   ]
  },
  {
   "cell_type": "code",
   "execution_count": null,
   "id": "8935147d-894b-4d6c-a0e6-52f2fa8a50cd",
   "metadata": {},
   "outputs": [],
   "source": [
    "#answer no 2:\n",
    "#variable are used to store values or any other datatype in them.\n",
    "#for declaring variable we use assignment operator\"=\"\n"
   ]
  },
  {
   "cell_type": "code",
   "execution_count": null,
   "id": "c33f8547-430e-4ca8-be13-2ae833e1f09d",
   "metadata": {},
   "outputs": [],
   "source": [
    "#answer no 3:\n",
    "#we can convert one datatype to another by using inbuilt functions\n",
    "#example:\n"
   ]
  },
  {
   "cell_type": "code",
   "execution_count": 15,
   "id": "59a02d4a-2575-451a-8979-dda543bc9639",
   "metadata": {},
   "outputs": [],
   "source": [
    "l=[1,2,3,4]     #this is list amd to convert it into string we use \n",
    "s=str(l)"
   ]
  },
  {
   "cell_type": "code",
   "execution_count": 16,
   "id": "1c1321d5-c816-4313-b1a3-1909a1734b72",
   "metadata": {},
   "outputs": [
    {
     "data": {
      "text/plain": [
       "'[1, 2, 3, 4]'"
      ]
     },
     "execution_count": 16,
     "metadata": {},
     "output_type": "execute_result"
    }
   ],
   "source": [
    "s"
   ]
  },
  {
   "cell_type": "code",
   "execution_count": 17,
   "id": "2c4b5c08-ef45-4848-99f6-5e1b7fc2e513",
   "metadata": {},
   "outputs": [],
   "source": [
    "#answer no 5:\n",
    "my_list=[1,2,3,4,5]\n",
    "sub_list=my_list[1:3]"
   ]
  },
  {
   "cell_type": "code",
   "execution_count": 18,
   "id": "15487e6b-c116-4144-ba64-4346adb902ac",
   "metadata": {},
   "outputs": [
    {
     "data": {
      "text/plain": [
       "[2, 3]"
      ]
     },
     "execution_count": 18,
     "metadata": {},
     "output_type": "execute_result"
    }
   ],
   "source": [
    "sub_list"
   ]
  },
  {
   "cell_type": "code",
   "execution_count": null,
   "id": "82cca4db-bc03-4c84-a9b2-52c54bc5d27f",
   "metadata": {},
   "outputs": [],
   "source": [
    "#answer no 6:\n",
    "#complex number in maths is number containing both imaginary part and real part and in maths imaginary part is with i\"iota\" but in python it is with j"
   ]
  },
  {
   "cell_type": "code",
   "execution_count": 19,
   "id": "4fedcc75-3b95-46c4-81f8-8fa5a0d01e29",
   "metadata": {},
   "outputs": [],
   "source": [
    "#answer no 7:\n",
    "age=25"
   ]
  },
  {
   "cell_type": "code",
   "execution_count": 20,
   "id": "23cdd3b8-dc3f-49eb-a3b9-0e33d32e8ff6",
   "metadata": {},
   "outputs": [
    {
     "data": {
      "text/plain": [
       "25"
      ]
     },
     "execution_count": 20,
     "metadata": {},
     "output_type": "execute_result"
    }
   ],
   "source": [
    "age "
   ]
  },
  {
   "cell_type": "code",
   "execution_count": 21,
   "id": "a736f6a2-fbe8-4c78-adb2-42abc6038f1c",
   "metadata": {},
   "outputs": [],
   "source": [
    "#answer no 8:\n",
    "price=9.99"
   ]
  },
  {
   "cell_type": "code",
   "execution_count": 22,
   "id": "925ee94f-779f-48c3-b6fe-45a4f3dc02db",
   "metadata": {},
   "outputs": [
    {
     "data": {
      "text/plain": [
       "float"
      ]
     },
     "execution_count": 22,
     "metadata": {},
     "output_type": "execute_result"
    }
   ],
   "source": [
    "type(price)"
   ]
  },
  {
   "cell_type": "code",
   "execution_count": 23,
   "id": "5a82b9cd-c836-4993-ab78-4d26c0432053",
   "metadata": {},
   "outputs": [
    {
     "name": "stdout",
     "output_type": "stream",
     "text": [
      "raghav abrol\n"
     ]
    }
   ],
   "source": [
    "#answer no 9:\n",
    "name=\"raghav abrol\"\n",
    "print(name)"
   ]
  },
  {
   "cell_type": "code",
   "execution_count": 25,
   "id": "88e2b31c-8018-4ec3-b853-93ae7f77c1cd",
   "metadata": {},
   "outputs": [
    {
     "name": "stdout",
     "output_type": "stream",
     "text": [
      "World\n"
     ]
    }
   ],
   "source": [
    "#answer no 10:\n",
    "a=\"Hello,World!\"\n",
    "substring=a[6:11]\n",
    "print(substring)"
   ]
  },
  {
   "cell_type": "code",
   "execution_count": 26,
   "id": "ee3dfae3-5d2f-4dfa-b513-f4f3659145d8",
   "metadata": {},
   "outputs": [
    {
     "name": "stdout",
     "output_type": "stream",
     "text": [
      "True\n"
     ]
    }
   ],
   "source": [
    "#answer no 11:\n",
    "is_student=\"True\"\n",
    "print(is_student)"
   ]
  }
 ],
 "metadata": {
  "kernelspec": {
   "display_name": "Python 3 (ipykernel)",
   "language": "python",
   "name": "python3"
  },
  "language_info": {
   "codemirror_mode": {
    "name": "ipython",
    "version": 3
   },
   "file_extension": ".py",
   "mimetype": "text/x-python",
   "name": "python",
   "nbconvert_exporter": "python",
   "pygments_lexer": "ipython3",
   "version": "3.10.8"
  }
 },
 "nbformat": 4,
 "nbformat_minor": 5
}
